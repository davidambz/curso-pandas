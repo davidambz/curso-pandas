{
 "cells": [
  {
   "cell_type": "markdown",
   "metadata": {},
   "source": [
    "# Converta a seguinte lista de dados para uma Series Pandas e obtenha:\n",
    "- Média\n",
    "- Desvio Padrão\n",
    "- Máximo Valor\n",
    "\n",
    "dados = [10, 20, 42, 9, 12, 35, 24, 10, 8, 14, 21]"
   ]
  },
  {
   "cell_type": "code",
   "execution_count": 10,
   "metadata": {},
   "outputs": [],
   "source": [
    "import pandas as pd\n",
    "\n",
    "dados = [10, 20, 42, 9, 12, 35, 24, 10, 8, 14, 21]"
   ]
  },
  {
   "cell_type": "code",
   "execution_count": 11,
   "metadata": {},
   "outputs": [],
   "source": [
    "# Transformando em série\n",
    "series_dados = pd.Series(dados)"
   ]
  },
  {
   "cell_type": "code",
   "execution_count": 12,
   "metadata": {},
   "outputs": [
    {
     "name": "stdout",
     "output_type": "stream",
     "text": [
      "18.636363636363637\n"
     ]
    }
   ],
   "source": [
    "# Média\n",
    "print(series_dados.mean())"
   ]
  },
  {
   "cell_type": "code",
   "execution_count": 13,
   "metadata": {},
   "outputs": [
    {
     "name": "stdout",
     "output_type": "stream",
     "text": [
      "11.271847472998623\n"
     ]
    }
   ],
   "source": [
    "# Desvio padrão\n",
    "print(series_dados.std())"
   ]
  },
  {
   "cell_type": "code",
   "execution_count": 14,
   "metadata": {},
   "outputs": [
    {
     "name": "stdout",
     "output_type": "stream",
     "text": [
      "42\n"
     ]
    }
   ],
   "source": [
    "# Máximo valor\n",
    "print(series_dados.max())"
   ]
  }
 ],
 "metadata": {
  "kernelspec": {
   "display_name": "curso-pandas-hsVZHi6V-py3.12",
   "language": "python",
   "name": "python3"
  },
  "language_info": {
   "codemirror_mode": {
    "name": "ipython",
    "version": 3
   },
   "file_extension": ".py",
   "mimetype": "text/x-python",
   "name": "python",
   "nbconvert_exporter": "python",
   "pygments_lexer": "ipython3",
   "version": "3.12.4"
  }
 },
 "nbformat": 4,
 "nbformat_minor": 2
}
