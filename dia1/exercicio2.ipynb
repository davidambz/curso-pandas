{
 "cells": [
  {
   "cell_type": "markdown",
   "metadata": {},
   "source": [
    "# Converta o seguinte dicionário para DataFrame e obtenha:\n",
    "- Sumário de cada coluna\n",
    "- Média da coluna idade\n",
    "- Último nome da coluna nome\n",
    "\n",
    "dados = {“nome”:[“Téo”, “Nah”, “Napoleão”], “idade”: [31, 32, 14]}\n"
   ]
  },
  {
   "cell_type": "code",
   "execution_count": 21,
   "metadata": {},
   "outputs": [],
   "source": [
    "import pandas as pd\n",
    "\n",
    "dados = {\n",
    "    \"nome\":[\"Téo\", \"Nah\", \"Napoleão\"], \n",
    "    \"idade\": [31, 32, 14]\n",
    "}"
   ]
  },
  {
   "cell_type": "code",
   "execution_count": 22,
   "metadata": {},
   "outputs": [],
   "source": [
    "df = pd.DataFrame(dados)"
   ]
  },
  {
   "cell_type": "code",
   "execution_count": 23,
   "metadata": {},
   "outputs": [
    {
     "name": "stdout",
     "output_type": "stream",
     "text": [
      "count       3\n",
      "unique      3\n",
      "top       Téo\n",
      "freq        1\n",
      "Name: nome, dtype: object\n",
      "count     3.000000\n",
      "mean     25.666667\n",
      "std      10.115994\n",
      "min      14.000000\n",
      "25%      22.500000\n",
      "50%      31.000000\n",
      "75%      31.500000\n",
      "max      32.000000\n",
      "Name: idade, dtype: float64\n"
     ]
    }
   ],
   "source": [
    "# Sumário de cada coluna\n",
    "print(df[\"nome\"].describe())\n",
    "print(df[\"idade\"].describe())"
   ]
  },
  {
   "cell_type": "code",
   "execution_count": 24,
   "metadata": {},
   "outputs": [
    {
     "name": "stdout",
     "output_type": "stream",
     "text": [
      "25.666666666666668\n"
     ]
    }
   ],
   "source": [
    "# Média da coluna idade\n",
    "print(df[\"idade\"].mean())"
   ]
  },
  {
   "cell_type": "code",
   "execution_count": 25,
   "metadata": {},
   "outputs": [
    {
     "name": "stdout",
     "output_type": "stream",
     "text": [
      "Napoleão\n"
     ]
    }
   ],
   "source": [
    "# Último nome\n",
    "print(df[\"nome\"].iloc[-1])"
   ]
  }
 ],
 "metadata": {
  "kernelspec": {
   "display_name": "curso-pandas-hsVZHi6V-py3.12",
   "language": "python",
   "name": "python3"
  },
  "language_info": {
   "codemirror_mode": {
    "name": "ipython",
    "version": 3
   },
   "file_extension": ".py",
   "mimetype": "text/x-python",
   "name": "python",
   "nbconvert_exporter": "python",
   "pygments_lexer": "ipython3",
   "version": "3.12.4"
  }
 },
 "nbformat": 4,
 "nbformat_minor": 2
}
